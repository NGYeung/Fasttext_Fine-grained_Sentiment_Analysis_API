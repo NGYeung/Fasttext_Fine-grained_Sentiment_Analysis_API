{
 "cells": [
  {
   "cell_type": "code",
   "execution_count": 9,
   "id": "899131db-f6a2-44ff-9a12-fd1be58d7f1b",
   "metadata": {},
   "outputs": [],
   "source": [
    "import pandas as pd\n",
    "import numpy as np\n",
    "import fasttext\n",
    "from sklearn.model_selection import train_test_split"
   ]
  },
  {
   "cell_type": "markdown",
   "id": "201d7059-4437-48cb-a413-fec399c0733f",
   "metadata": {},
   "source": [
    "### The follow script constructs a training dataset to fine-tune fast text for product review classifier"
   ]
  },
  {
   "cell_type": "code",
   "execution_count": 3,
   "id": "d7635b1a-83ff-4932-8d86-203aeab48c77",
   "metadata": {},
   "outputs": [],
   "source": [
    "DATA = pd.read_csv(r'fashion_train/18.csv')\n"
   ]
  },
  {
   "cell_type": "code",
   "execution_count": 17,
   "id": "334199bd-021a-47aa-bbd4-ab71df15331a",
   "metadata": {},
   "outputs": [
    {
     "data": {
      "text/html": [
       "<div>\n",
       "<style scoped>\n",
       "    .dataframe tbody tr th:only-of-type {\n",
       "        vertical-align: middle;\n",
       "    }\n",
       "\n",
       "    .dataframe tbody tr th {\n",
       "        vertical-align: top;\n",
       "    }\n",
       "\n",
       "    .dataframe thead th {\n",
       "        text-align: right;\n",
       "    }\n",
       "</style>\n",
       "<table border=\"1\" class=\"dataframe\">\n",
       "  <thead>\n",
       "    <tr style=\"text-align: right;\">\n",
       "      <th></th>\n",
       "      <th>reviewText</th>\n",
       "      <th>overall</th>\n",
       "    </tr>\n",
       "  </thead>\n",
       "  <tbody>\n",
       "    <tr>\n",
       "      <th>0</th>\n",
       "      <td>Just what I needed for a party</td>\n",
       "      <td>1.0</td>\n",
       "    </tr>\n",
       "    <tr>\n",
       "      <th>1</th>\n",
       "      <td>Son loves it.  Decent quality.</td>\n",
       "      <td>1.0</td>\n",
       "    </tr>\n",
       "    <tr>\n",
       "      <th>2</th>\n",
       "      <td>My son wanted to dress like August Pullman fro...</td>\n",
       "      <td>1.0</td>\n",
       "    </tr>\n",
       "    <tr>\n",
       "      <th>3</th>\n",
       "      <td>awesome.</td>\n",
       "      <td>1.0</td>\n",
       "    </tr>\n",
       "    <tr>\n",
       "      <th>4</th>\n",
       "      <td>My daughter loves this item. My high score is ...</td>\n",
       "      <td>1.0</td>\n",
       "    </tr>\n",
       "    <tr>\n",
       "      <th>...</th>\n",
       "      <td>...</td>\n",
       "      <td>...</td>\n",
       "    </tr>\n",
       "    <tr>\n",
       "      <th>50372</th>\n",
       "      <td>What I wanted.</td>\n",
       "      <td>1.0</td>\n",
       "    </tr>\n",
       "    <tr>\n",
       "      <th>50373</th>\n",
       "      <td>Husband loves it, as he always dreamed of goin...</td>\n",
       "      <td>1.0</td>\n",
       "    </tr>\n",
       "    <tr>\n",
       "      <th>50374</th>\n",
       "      <td>Ugh. This shirt looked so good online, it look...</td>\n",
       "      <td>-1.0</td>\n",
       "    </tr>\n",
       "    <tr>\n",
       "      <th>50375</th>\n",
       "      <td>Very comfortable to wear</td>\n",
       "      <td>1.0</td>\n",
       "    </tr>\n",
       "    <tr>\n",
       "      <th>50376</th>\n",
       "      <td>Love it love it love it</td>\n",
       "      <td>1.0</td>\n",
       "    </tr>\n",
       "  </tbody>\n",
       "</table>\n",
       "<p>50377 rows × 2 columns</p>\n",
       "</div>"
      ],
      "text/plain": [
       "                                              reviewText  overall\n",
       "0                         Just what I needed for a party      1.0\n",
       "1                         Son loves it.  Decent quality.      1.0\n",
       "2      My son wanted to dress like August Pullman fro...      1.0\n",
       "3                                               awesome.      1.0\n",
       "4      My daughter loves this item. My high score is ...      1.0\n",
       "...                                                  ...      ...\n",
       "50372                                     What I wanted.      1.0\n",
       "50373  Husband loves it, as he always dreamed of goin...      1.0\n",
       "50374  Ugh. This shirt looked so good online, it look...     -1.0\n",
       "50375                           Very comfortable to wear      1.0\n",
       "50376                            Love it love it love it      1.0\n",
       "\n",
       "[50377 rows x 2 columns]"
      ]
     },
     "execution_count": 17,
     "metadata": {},
     "output_type": "execute_result"
    }
   ],
   "source": [
    "# filtering\n",
    "DATA_select = DATA[['reviewText','overall']]\n",
    "DATA_select"
   ]
  },
  {
   "cell_type": "code",
   "execution_count": 19,
   "id": "70489b4d-afcc-4ec1-87a0-4fdfdcb7dfda",
   "metadata": {},
   "outputs": [
    {
     "data": {
      "text/plain": [
       "reviewText    0\n",
       "overall       0\n",
       "dtype: int64"
      ]
     },
     "execution_count": 19,
     "metadata": {},
     "output_type": "execute_result"
    }
   ],
   "source": [
    "DATA_select.isnull().sum()"
   ]
  },
  {
   "cell_type": "code",
   "execution_count": 27,
   "id": "fa7744da-f11c-46de-b77f-9faa918c5e8e",
   "metadata": {},
   "outputs": [
    {
     "name": "stdout",
     "output_type": "stream",
     "text": [
      "Positive Review: reviewText    36411\n",
      "overall       36411\n",
      "dtype: int64\n",
      "\n",
      "Neutral Review: reviewText    4868\n",
      "overall       4868\n",
      "dtype: int64\n",
      "\n",
      "Negative Review: reviewText    9098\n",
      "overall       9098\n",
      "dtype: int64\n",
      "\n"
     ]
    }
   ],
   "source": [
    "print(f\"Positive Review: {DATA_select[DATA_select['overall']==1].count()}\\n\")\n",
    "print(f\"Neutral Review: {DATA_select[DATA_select['overall']==0].count()}\\n\")\n",
    "print(f\"Negative Review: {DATA_select[DATA_select['overall']==-1].count()}\\n\")"
   ]
  },
  {
   "cell_type": "code",
   "execution_count": 29,
   "id": "fd88d200-9a65-49e5-87a4-be4693e51e2f",
   "metadata": {},
   "outputs": [
    {
     "data": {
      "text/html": [
       "<div>\n",
       "<style scoped>\n",
       "    .dataframe tbody tr th:only-of-type {\n",
       "        vertical-align: middle;\n",
       "    }\n",
       "\n",
       "    .dataframe tbody tr th {\n",
       "        vertical-align: top;\n",
       "    }\n",
       "\n",
       "    .dataframe thead th {\n",
       "        text-align: right;\n",
       "    }\n",
       "</style>\n",
       "<table border=\"1\" class=\"dataframe\">\n",
       "  <thead>\n",
       "    <tr style=\"text-align: right;\">\n",
       "      <th></th>\n",
       "      <th>Unnamed: 0</th>\n",
       "      <th>overall</th>\n",
       "      <th>reviewTime</th>\n",
       "      <th>reviewText</th>\n",
       "    </tr>\n",
       "  </thead>\n",
       "  <tbody>\n",
       "    <tr>\n",
       "      <th>0</th>\n",
       "      <td>13</td>\n",
       "      <td>-1.0</td>\n",
       "      <td>2012</td>\n",
       "      <td>I ordered a ladies cigarette case for my wife,...</td>\n",
       "    </tr>\n",
       "    <tr>\n",
       "      <th>1</th>\n",
       "      <td>14</td>\n",
       "      <td>1.0</td>\n",
       "      <td>2010</td>\n",
       "      <td>Received the case in less than a week...was ve...</td>\n",
       "    </tr>\n",
       "    <tr>\n",
       "      <th>2</th>\n",
       "      <td>127</td>\n",
       "      <td>-1.0</td>\n",
       "      <td>2012</td>\n",
       "      <td>Don't buy this shirt unless you plan to spend ...</td>\n",
       "    </tr>\n",
       "    <tr>\n",
       "      <th>3</th>\n",
       "      <td>128</td>\n",
       "      <td>1.0</td>\n",
       "      <td>2012</td>\n",
       "      <td>Nice shirt, Well made. good sizing. Nice color...</td>\n",
       "    </tr>\n",
       "    <tr>\n",
       "      <th>4</th>\n",
       "      <td>139</td>\n",
       "      <td>1.0</td>\n",
       "      <td>2011</td>\n",
       "      <td>If you want a look that takes it back to the O...</td>\n",
       "    </tr>\n",
       "    <tr>\n",
       "      <th>...</th>\n",
       "      <td>...</td>\n",
       "      <td>...</td>\n",
       "      <td>...</td>\n",
       "      <td>...</td>\n",
       "    </tr>\n",
       "    <tr>\n",
       "      <th>16795</th>\n",
       "      <td>792655</td>\n",
       "      <td>1.0</td>\n",
       "      <td>2011</td>\n",
       "      <td>I purchased this hat in anticipation of the ho...</td>\n",
       "    </tr>\n",
       "    <tr>\n",
       "      <th>16796</th>\n",
       "      <td>795476</td>\n",
       "      <td>1.0</td>\n",
       "      <td>2010</td>\n",
       "      <td>These toddler boots were very cute, comfortabl...</td>\n",
       "    </tr>\n",
       "    <tr>\n",
       "      <th>16797</th>\n",
       "      <td>795477</td>\n",
       "      <td>1.0</td>\n",
       "      <td>2010</td>\n",
       "      <td>My daughter loves them. They are for a baby gi...</td>\n",
       "    </tr>\n",
       "    <tr>\n",
       "      <th>16798</th>\n",
       "      <td>796077</td>\n",
       "      <td>-1.0</td>\n",
       "      <td>2009</td>\n",
       "      <td>Looks like it came out of a vending machine. C...</td>\n",
       "    </tr>\n",
       "    <tr>\n",
       "      <th>16799</th>\n",
       "      <td>796980</td>\n",
       "      <td>1.0</td>\n",
       "      <td>2011</td>\n",
       "      <td>I got the boots for one of my granddaughters f...</td>\n",
       "    </tr>\n",
       "  </tbody>\n",
       "</table>\n",
       "<p>16800 rows × 4 columns</p>\n",
       "</div>"
      ],
      "text/plain": [
       "       Unnamed: 0  overall  reviewTime  \\\n",
       "0              13     -1.0        2012   \n",
       "1              14      1.0        2010   \n",
       "2             127     -1.0        2012   \n",
       "3             128      1.0        2012   \n",
       "4             139      1.0        2011   \n",
       "...           ...      ...         ...   \n",
       "16795      792655      1.0        2011   \n",
       "16796      795476      1.0        2010   \n",
       "16797      795477      1.0        2010   \n",
       "16798      796077     -1.0        2009   \n",
       "16799      796980      1.0        2011   \n",
       "\n",
       "                                              reviewText  \n",
       "0      I ordered a ladies cigarette case for my wife,...  \n",
       "1      Received the case in less than a week...was ve...  \n",
       "2      Don't buy this shirt unless you plan to spend ...  \n",
       "3      Nice shirt, Well made. good sizing. Nice color...  \n",
       "4      If you want a look that takes it back to the O...  \n",
       "...                                                  ...  \n",
       "16795  I purchased this hat in anticipation of the ho...  \n",
       "16796  These toddler boots were very cute, comfortabl...  \n",
       "16797  My daughter loves them. They are for a baby gi...  \n",
       "16798  Looks like it came out of a vending machine. C...  \n",
       "16799  I got the boots for one of my granddaughters f...  \n",
       "\n",
       "[16800 rows x 4 columns]"
      ]
     },
     "execution_count": 29,
     "metadata": {},
     "output_type": "execute_result"
    }
   ],
   "source": [
    "DATA2 = pd.read_csv(r'fashion_train/12.csv')\n",
    "DATA2"
   ]
  },
  {
   "cell_type": "code",
   "execution_count": 31,
   "id": "cf04753b-dade-4ed4-94ec-f857c29d2ad9",
   "metadata": {},
   "outputs": [
    {
     "data": {
      "text/html": [
       "<div>\n",
       "<style scoped>\n",
       "    .dataframe tbody tr th:only-of-type {\n",
       "        vertical-align: middle;\n",
       "    }\n",
       "\n",
       "    .dataframe tbody tr th {\n",
       "        vertical-align: top;\n",
       "    }\n",
       "\n",
       "    .dataframe thead th {\n",
       "        text-align: right;\n",
       "    }\n",
       "</style>\n",
       "<table border=\"1\" class=\"dataframe\">\n",
       "  <thead>\n",
       "    <tr style=\"text-align: right;\">\n",
       "      <th></th>\n",
       "      <th>reviewText</th>\n",
       "      <th>overall</th>\n",
       "    </tr>\n",
       "  </thead>\n",
       "  <tbody>\n",
       "    <tr>\n",
       "      <th>0</th>\n",
       "      <td>I ordered a ladies cigarette case for my wife,...</td>\n",
       "      <td>-1.0</td>\n",
       "    </tr>\n",
       "    <tr>\n",
       "      <th>1</th>\n",
       "      <td>Received the case in less than a week...was ve...</td>\n",
       "      <td>1.0</td>\n",
       "    </tr>\n",
       "    <tr>\n",
       "      <th>2</th>\n",
       "      <td>Don't buy this shirt unless you plan to spend ...</td>\n",
       "      <td>-1.0</td>\n",
       "    </tr>\n",
       "    <tr>\n",
       "      <th>3</th>\n",
       "      <td>Nice shirt, Well made. good sizing. Nice color...</td>\n",
       "      <td>1.0</td>\n",
       "    </tr>\n",
       "    <tr>\n",
       "      <th>4</th>\n",
       "      <td>If you want a look that takes it back to the O...</td>\n",
       "      <td>1.0</td>\n",
       "    </tr>\n",
       "    <tr>\n",
       "      <th>...</th>\n",
       "      <td>...</td>\n",
       "      <td>...</td>\n",
       "    </tr>\n",
       "    <tr>\n",
       "      <th>16795</th>\n",
       "      <td>I purchased this hat in anticipation of the ho...</td>\n",
       "      <td>1.0</td>\n",
       "    </tr>\n",
       "    <tr>\n",
       "      <th>16796</th>\n",
       "      <td>These toddler boots were very cute, comfortabl...</td>\n",
       "      <td>1.0</td>\n",
       "    </tr>\n",
       "    <tr>\n",
       "      <th>16797</th>\n",
       "      <td>My daughter loves them. They are for a baby gi...</td>\n",
       "      <td>1.0</td>\n",
       "    </tr>\n",
       "    <tr>\n",
       "      <th>16798</th>\n",
       "      <td>Looks like it came out of a vending machine. C...</td>\n",
       "      <td>-1.0</td>\n",
       "    </tr>\n",
       "    <tr>\n",
       "      <th>16799</th>\n",
       "      <td>I got the boots for one of my granddaughters f...</td>\n",
       "      <td>1.0</td>\n",
       "    </tr>\n",
       "  </tbody>\n",
       "</table>\n",
       "<p>16800 rows × 2 columns</p>\n",
       "</div>"
      ],
      "text/plain": [
       "                                              reviewText  overall\n",
       "0      I ordered a ladies cigarette case for my wife,...     -1.0\n",
       "1      Received the case in less than a week...was ve...      1.0\n",
       "2      Don't buy this shirt unless you plan to spend ...     -1.0\n",
       "3      Nice shirt, Well made. good sizing. Nice color...      1.0\n",
       "4      If you want a look that takes it back to the O...      1.0\n",
       "...                                                  ...      ...\n",
       "16795  I purchased this hat in anticipation of the ho...      1.0\n",
       "16796  These toddler boots were very cute, comfortabl...      1.0\n",
       "16797  My daughter loves them. They are for a baby gi...      1.0\n",
       "16798  Looks like it came out of a vending machine. C...     -1.0\n",
       "16799  I got the boots for one of my granddaughters f...      1.0\n",
       "\n",
       "[16800 rows x 2 columns]"
      ]
     },
     "execution_count": 31,
     "metadata": {},
     "output_type": "execute_result"
    }
   ],
   "source": [
    "DATA2_select = DATA2[['reviewText','overall']]\n",
    "DATA2_select"
   ]
  },
  {
   "cell_type": "code",
   "execution_count": 33,
   "id": "7c460aeb-bbab-4c5d-8f62-37a7c87748a5",
   "metadata": {},
   "outputs": [
    {
     "data": {
      "text/plain": [
       "reviewText    0\n",
       "overall       0\n",
       "dtype: int64"
      ]
     },
     "execution_count": 33,
     "metadata": {},
     "output_type": "execute_result"
    }
   ],
   "source": [
    "DATA2_select.isnull().sum()"
   ]
  },
  {
   "cell_type": "code",
   "execution_count": 47,
   "id": "baac64eb-d143-4b4e-b57b-4d4111e87299",
   "metadata": {},
   "outputs": [],
   "source": [
    "DATA3 = pd.read_csv(r'fashion_train/13_17.csv')\n",
    "DATA3_select = DATA3[['reviewText','overall']]"
   ]
  },
  {
   "cell_type": "code",
   "execution_count": 49,
   "id": "6c532096-04a7-4a2f-b564-3942d8344a13",
   "metadata": {},
   "outputs": [
    {
     "data": {
      "text/plain": [
       "reviewText    1\n",
       "overall       0\n",
       "dtype: int64"
      ]
     },
     "execution_count": 49,
     "metadata": {},
     "output_type": "execute_result"
    }
   ],
   "source": [
    "DATA3_select.isnull().sum()"
   ]
  },
  {
   "cell_type": "code",
   "execution_count": 51,
   "id": "c7820aef-4263-4828-a1d7-2b961b2fbd50",
   "metadata": {},
   "outputs": [
    {
     "name": "stderr",
     "output_type": "stream",
     "text": [
      "C:\\Users\\yyBee\\AppData\\Local\\Temp\\ipykernel_5668\\2186693165.py:1: SettingWithCopyWarning: \n",
      "A value is trying to be set on a copy of a slice from a DataFrame\n",
      "\n",
      "See the caveats in the documentation: https://pandas.pydata.org/pandas-docs/stable/user_guide/indexing.html#returning-a-view-versus-a-copy\n",
      "  DATA3_select.dropna(inplace=True)\n"
     ]
    }
   ],
   "source": [
    "DATA3_select.dropna(inplace=True)"
   ]
  },
  {
   "cell_type": "code",
   "execution_count": 53,
   "id": "2422e4e1-0218-48ee-b2b0-f35cab9b95de",
   "metadata": {},
   "outputs": [
    {
     "data": {
      "text/plain": [
       "reviewText    0\n",
       "overall       0\n",
       "dtype: int64"
      ]
     },
     "execution_count": 53,
     "metadata": {},
     "output_type": "execute_result"
    }
   ],
   "source": [
    "DATA3_select.isnull().sum()"
   ]
  },
  {
   "cell_type": "code",
   "execution_count": 55,
   "id": "f1186d65-9af3-49ef-943e-e310e8ed9df2",
   "metadata": {},
   "outputs": [],
   "source": [
    "DATA_ALL = pd.concat([DATA_select, DATA2_select, DATA3_select])"
   ]
  },
  {
   "cell_type": "markdown",
   "id": "66f2bda9-b382-40d9-922b-973cb88c41bd",
   "metadata": {},
   "source": [
    "#### Construct the Training an Testing set\n",
    "- We want a training set =  180000 and testing set = 60000 comments"
   ]
  },
  {
   "cell_type": "code",
   "execution_count": 75,
   "id": "90109ca2-7ff5-485a-a1ba-2081d9a26aa5",
   "metadata": {},
   "outputs": [
    {
     "name": "stdout",
     "output_type": "stream",
     "text": [
      "training instances per class: 64000, and testing instances per class16000\n"
     ]
    }
   ],
   "source": [
    "total = 240000\n",
    "\n",
    "positive_reviews = DATA_ALL[DATA_ALL['overall'] == 1]\n",
    "neutral_reviews = DATA_ALL[DATA_ALL['overall'] == 0]\n",
    "negative_reviews = DATA_ALL[DATA_ALL['overall'] == -1]\n",
    "\n",
    "\n",
    "\n",
    "train_per_class = round(total*0.8/3) \n",
    "test_per_class = round(total*0.2/3)\n",
    "print(f\"training instances per class: {train_per_class}, and testing instances per class{test_per_class}\")\n",
    "\n",
    "\n",
    "# Training set\n",
    "positive_train = positive_reviews.sample(n=train_per_class, random_state=42)\n",
    "neutral_train = neutral_reviews.sample(n=train_per_class, random_state=42)\n",
    "negative_train = negative_reviews.sample(n=train_per_class, random_state=42)\n",
    "\n",
    "\n",
    "training_set = pd.concat([positive_train, neutral_train, negative_train])\n",
    "\n",
    "\n",
    "# Testing set\n",
    "positive_remaining = positive_reviews.drop(positive_train.index)\n",
    "neutral_remaining = neutral_reviews.drop(neutral_train.index)\n",
    "negative_remaining = negative_reviews.drop(negative_train.index)\n",
    "\n",
    "positive_test = positive_remaining.sample(n=test_per_class, random_state=42)\n",
    "neutral_test = neutral_remaining.sample(n=test_per_class, random_state=42)\n",
    "negative_test = negative_remaining.sample(n=test_per_class, random_state=42)\n",
    "\n",
    "testing_set = pd.concat([positive_test, neutral_test, negative_test])\n",
    "\n",
    "# Shuffle!!\n",
    "training_set = training_set.sample(frac=1, random_state=42).reset_index(drop=True)\n",
    "testing_set = testing_set.sample(frac=1, random_state=42).reset_index(drop=True)\n"
   ]
  },
  {
   "cell_type": "code",
   "execution_count": 77,
   "id": "09c37e8f-dcc6-4cdc-9354-b7dd7f7330b9",
   "metadata": {},
   "outputs": [
    {
     "data": {
      "text/html": [
       "<div>\n",
       "<style scoped>\n",
       "    .dataframe tbody tr th:only-of-type {\n",
       "        vertical-align: middle;\n",
       "    }\n",
       "\n",
       "    .dataframe tbody tr th {\n",
       "        vertical-align: top;\n",
       "    }\n",
       "\n",
       "    .dataframe thead th {\n",
       "        text-align: right;\n",
       "    }\n",
       "</style>\n",
       "<table border=\"1\" class=\"dataframe\">\n",
       "  <thead>\n",
       "    <tr style=\"text-align: right;\">\n",
       "      <th></th>\n",
       "      <th>reviewText</th>\n",
       "      <th>overall</th>\n",
       "    </tr>\n",
       "  </thead>\n",
       "  <tbody>\n",
       "    <tr>\n",
       "      <th>0</th>\n",
       "      <td>Terrible. The wig doesn't even fit my daughter...</td>\n",
       "      <td>-1.0</td>\n",
       "    </tr>\n",
       "    <tr>\n",
       "      <th>1</th>\n",
       "      <td>This is not a youth or big boys size!</td>\n",
       "      <td>-1.0</td>\n",
       "    </tr>\n",
       "    <tr>\n",
       "      <th>2</th>\n",
       "      <td>flames come off. we have had 2 pairs &amp; it has ...</td>\n",
       "      <td>-1.0</td>\n",
       "    </tr>\n",
       "    <tr>\n",
       "      <th>3</th>\n",
       "      <td>Great bag!! Larger than I thought but I will j...</td>\n",
       "      <td>1.0</td>\n",
       "    </tr>\n",
       "    <tr>\n",
       "      <th>4</th>\n",
       "      <td>The glasses fit pretty tight so they don't fal...</td>\n",
       "      <td>1.0</td>\n",
       "    </tr>\n",
       "    <tr>\n",
       "      <th>...</th>\n",
       "      <td>...</td>\n",
       "      <td>...</td>\n",
       "    </tr>\n",
       "    <tr>\n",
       "      <th>47995</th>\n",
       "      <td>Precious little purse. It is as shown.</td>\n",
       "      <td>1.0</td>\n",
       "    </tr>\n",
       "    <tr>\n",
       "      <th>47996</th>\n",
       "      <td>Not even the right shirt, and crappy quality t...</td>\n",
       "      <td>-1.0</td>\n",
       "    </tr>\n",
       "    <tr>\n",
       "      <th>47997</th>\n",
       "      <td>If there was a no star rating I would use that...</td>\n",
       "      <td>-1.0</td>\n",
       "    </tr>\n",
       "    <tr>\n",
       "      <th>47998</th>\n",
       "      <td>Love it! Material its soft and it looks so sexy!</td>\n",
       "      <td>1.0</td>\n",
       "    </tr>\n",
       "    <tr>\n",
       "      <th>47999</th>\n",
       "      <td>Love the concept. Would be better if the visor...</td>\n",
       "      <td>1.0</td>\n",
       "    </tr>\n",
       "  </tbody>\n",
       "</table>\n",
       "<p>48000 rows × 2 columns</p>\n",
       "</div>"
      ],
      "text/plain": [
       "                                              reviewText  overall\n",
       "0      Terrible. The wig doesn't even fit my daughter...     -1.0\n",
       "1                  This is not a youth or big boys size!     -1.0\n",
       "2      flames come off. we have had 2 pairs & it has ...     -1.0\n",
       "3      Great bag!! Larger than I thought but I will j...      1.0\n",
       "4      The glasses fit pretty tight so they don't fal...      1.0\n",
       "...                                                  ...      ...\n",
       "47995             Precious little purse. It is as shown.      1.0\n",
       "47996  Not even the right shirt, and crappy quality t...     -1.0\n",
       "47997  If there was a no star rating I would use that...     -1.0\n",
       "47998   Love it! Material its soft and it looks so sexy!      1.0\n",
       "47999  Love the concept. Would be better if the visor...      1.0\n",
       "\n",
       "[48000 rows x 2 columns]"
      ]
     },
     "execution_count": 77,
     "metadata": {},
     "output_type": "execute_result"
    }
   ],
   "source": [
    "testing_set"
   ]
  },
  {
   "cell_type": "code",
   "execution_count": 99,
   "id": "9ed1d337-edd1-44a4-a1bc-aef4715ab065",
   "metadata": {},
   "outputs": [],
   "source": [
    "# clean the texts in both sets\n",
    "\n",
    "def preprocess_text(text, lemmatizer, stop_words):\n",
    "    \"\"\"\n",
    "    This function does the following:\n",
    "    1. Lowercasing\n",
    "    2. Removing punctuation and numbers\n",
    "    3. Tokenization\n",
    "    4. Removing stopwords\n",
    "    5. Lemmatization\n",
    "    6. Removing extra whitespace\n",
    "    \"\"\"\n",
    "    \n",
    "\n",
    "    text = text.lower()\n",
    "    \n",
    "    text = re.sub(r'[\\d]', '', text)  # Remove digits\n",
    "    text = text.translate(str.maketrans('', '', string.punctuation))  # Remove punctuation\n",
    "    \n",
    "    tokens = nltk.word_tokenize(text)\n",
    "    \n",
    "    tokens = [word for word in tokens if word not in stop_words]\n",
    "    \n",
    "    tokens = [lemmatizer.lemmatize(word) for word in tokens]\n",
    "    \n",
    "    cleaned = ' '.join(tokens)\n",
    "    \n",
    "    return cleaned\n",
    "\n"
   ]
  },
  {
   "cell_type": "code",
   "execution_count": 79,
   "id": "aed453de-7790-4be5-a4d5-9bf0971186e5",
   "metadata": {},
   "outputs": [],
   "source": [
    "import nltk\n",
    "import string\n",
    "import re\n",
    "import nltk\n",
    "from nltk.corpus import stopwords\n",
    "from nltk.stem import WordNetLemmatizer"
   ]
  },
  {
   "cell_type": "code",
   "execution_count": 93,
   "id": "01522c77-503a-40bf-9678-f51c77975bf2",
   "metadata": {},
   "outputs": [],
   "source": [
    "lemmatizer = WordNetLemmatizer()\n",
    "stop_words = set(stopwords.words('english'))\n",
    "\n",
    "\n",
    "# Remove the words that are key to sentiment analysis (mostly the negative contractions)\n",
    "negatives = {'not', 'no', 'never', 'none', 'nor', 'neither', 'cannot', \"don't\", \"didn't\", \"won't\", \"can't\", \"aren't\", \"couldn't\", \"doesn't\", \"hasn't\", \"shoudn't\", \"haven't\", \"shan't\" }\n",
    "negatives2 = {\n",
    "    \"against\", \"ain't\", \"aren't\", \"couldn't\", \"didn't\", \"doesn't\", \"don't\", \n",
    "    \"hadn't\", \"hasn't\", \"haven't\", \"isn't\", \"mightn't\", \"mustn't\", \"needn't\", \n",
    "    \"shan't\", \"shouldn't\", \"wasn't\", \"weren't\", \"won't\", \"wouldn't\", \n",
    "    \"how\", \"just\", \"more\", \"most\", \"only\", \"other\", \"same\", \"such\", \n",
    "    \"too\", \"very\", \"what\", \"when\", \"where\", \"why\"\n",
    "}\n",
    "negatives3 =  {\n",
    "    \"ain\", \"aren\", \"couldn\", \"didn\", \"doesn\", \"don\", \"hadn\", \"hasn\", \"haven\", \n",
    "    \"isn\", \"mightn\", \"mustn\", \"needn\", \"shan\", \"shouldn\", \"wasn\", \"weren\", \n",
    "    \"won\", \"wouldn\"\n",
    "}\n",
    "\n",
    "stop_words = stop_words - negatives - negatives2 - negatives3"
   ]
  },
  {
   "cell_type": "code",
   "execution_count": 95,
   "id": "c455befa-43fd-4843-9393-f269e5a4c8e5",
   "metadata": {},
   "outputs": [],
   "source": [
    "def clean_review(row):\n",
    " \n",
    "    review = row['reviewText']\n",
    "    clean_text = preprocess_text(review, lemmatizer, stop_words)\n",
    "    row['Text'] = clean_text\n",
    "    return row[['overall', 'Text']]"
   ]
  },
  {
   "cell_type": "code",
   "execution_count": 101,
   "id": "84e8d3be-4b4a-46b4-b19b-4ad092ad6669",
   "metadata": {},
   "outputs": [],
   "source": [
    "clean_train = training_set.apply(clean_review, axis=1)\n",
    "clean_test = testing_set.apply(clean_review, axis=1)"
   ]
  },
  {
   "cell_type": "code",
   "execution_count": 103,
   "id": "beeb9b65-c207-491d-a4c7-bbbacd76ac7c",
   "metadata": {},
   "outputs": [
    {
     "data": {
      "text/html": [
       "<div>\n",
       "<style scoped>\n",
       "    .dataframe tbody tr th:only-of-type {\n",
       "        vertical-align: middle;\n",
       "    }\n",
       "\n",
       "    .dataframe tbody tr th {\n",
       "        vertical-align: top;\n",
       "    }\n",
       "\n",
       "    .dataframe thead th {\n",
       "        text-align: right;\n",
       "    }\n",
       "</style>\n",
       "<table border=\"1\" class=\"dataframe\">\n",
       "  <thead>\n",
       "    <tr style=\"text-align: right;\">\n",
       "      <th></th>\n",
       "      <th>overall</th>\n",
       "      <th>Text</th>\n",
       "    </tr>\n",
       "  </thead>\n",
       "  <tbody>\n",
       "    <tr>\n",
       "      <th>0</th>\n",
       "      <td>-1.0</td>\n",
       "      <td>terrible wig doesnt even fit daughter american...</td>\n",
       "    </tr>\n",
       "    <tr>\n",
       "      <th>1</th>\n",
       "      <td>-1.0</td>\n",
       "      <td>not youth big boy size</td>\n",
       "    </tr>\n",
       "    <tr>\n",
       "      <th>2</th>\n",
       "      <td>-1.0</td>\n",
       "      <td>flame come pair happened one pair within day b...</td>\n",
       "    </tr>\n",
       "    <tr>\n",
       "      <th>3</th>\n",
       "      <td>1.0</td>\n",
       "      <td>great bag larger thought just fill</td>\n",
       "    </tr>\n",
       "    <tr>\n",
       "      <th>4</th>\n",
       "      <td>1.0</td>\n",
       "      <td>glass fit pretty tight dont fall lean very lig...</td>\n",
       "    </tr>\n",
       "    <tr>\n",
       "      <th>...</th>\n",
       "      <td>...</td>\n",
       "      <td>...</td>\n",
       "    </tr>\n",
       "    <tr>\n",
       "      <th>47995</th>\n",
       "      <td>1.0</td>\n",
       "      <td>precious little purse shown</td>\n",
       "    </tr>\n",
       "    <tr>\n",
       "      <th>47996</th>\n",
       "      <td>-1.0</td>\n",
       "      <td>not even right shirt crappy quality boot</td>\n",
       "    </tr>\n",
       "    <tr>\n",
       "      <th>47997</th>\n",
       "      <td>-1.0</td>\n",
       "      <td>no star rating would use shirt seemed good was...</td>\n",
       "    </tr>\n",
       "    <tr>\n",
       "      <th>47998</th>\n",
       "      <td>1.0</td>\n",
       "      <td>love material soft look sexy</td>\n",
       "    </tr>\n",
       "    <tr>\n",
       "      <th>47999</th>\n",
       "      <td>1.0</td>\n",
       "      <td>love concept would better visor able opened cl...</td>\n",
       "    </tr>\n",
       "  </tbody>\n",
       "</table>\n",
       "<p>48000 rows × 2 columns</p>\n",
       "</div>"
      ],
      "text/plain": [
       "       overall                                               Text\n",
       "0         -1.0  terrible wig doesnt even fit daughter american...\n",
       "1         -1.0                             not youth big boy size\n",
       "2         -1.0  flame come pair happened one pair within day b...\n",
       "3          1.0                 great bag larger thought just fill\n",
       "4          1.0  glass fit pretty tight dont fall lean very lig...\n",
       "...        ...                                                ...\n",
       "47995      1.0                        precious little purse shown\n",
       "47996     -1.0           not even right shirt crappy quality boot\n",
       "47997     -1.0  no star rating would use shirt seemed good was...\n",
       "47998      1.0                       love material soft look sexy\n",
       "47999      1.0  love concept would better visor able opened cl...\n",
       "\n",
       "[48000 rows x 2 columns]"
      ]
     },
     "execution_count": 103,
     "metadata": {},
     "output_type": "execute_result"
    }
   ],
   "source": [
    "clean_test"
   ]
  },
  {
   "cell_type": "code",
   "execution_count": 109,
   "id": "1f617040-5dee-4ea6-98ee-1139085c825b",
   "metadata": {},
   "outputs": [],
   "source": [
    "clean_train.to_csv(r\"model_train_data/clean_train.csv\", index=False)\n",
    "clean_test.to_csv(r\"model_train_data/clean_test.csv\", index=False)"
   ]
  },
  {
   "cell_type": "markdown",
   "id": "9151eec3-acad-4ef1-86e3-99d295c75676",
   "metadata": {},
   "source": [
    "### Fine-tuning the Fasttext classifier"
   ]
  },
  {
   "cell_type": "code",
   "execution_count": 117,
   "id": "d617ac21-954d-4d48-bee4-ec2704dc1b2a",
   "metadata": {},
   "outputs": [],
   "source": [
    "import fasttext\n",
    "import os"
   ]
  },
  {
   "cell_type": "code",
   "execution_count": 121,
   "id": "b9537dcd-2592-4352-8b2b-483f013a26c8",
   "metadata": {},
   "outputs": [],
   "source": [
    "def DF_ftz(dataframe, label_tag, text_tag, train):\n",
    "    \"\"\"\n",
    "    Format the texts for FastText model.\n",
    "    \"\"\"\n",
    "    if train:\n",
    "        label = \"Train\"\n",
    "    else:\n",
    "        label = \"Test\"\n",
    "    formatted_file = r\"model_train_data/\" + label + \"_review_data.txt\"\n",
    "    with open(formatted_file, \"w\", encoding=\"utf-8\") as f:\n",
    "        for _, row in dataframe.iterrows():\n",
    "            label = f\"__label__{row[label_tag]}\"\n",
    "            text = row[text_tag]\n",
    "            f.write(f\"{label} {text}\\n\")\n",
    "    return formatted_file\n",
    "    "
   ]
  },
  {
   "cell_type": "code",
   "execution_count": 601,
   "id": "4841ccfe-dab7-4013-87ff-3772003d0148",
   "metadata": {},
   "outputs": [],
   "source": [
    "def train(corpus):\n",
    "    \"\"\"\n",
    "    Train and fine-tune FastText model\n",
    "    \"\"\"\n",
    "    # Train model on training data\n",
    "    model = fasttext.train_supervised(input=corpus,\n",
    "                                      epoch=50,\n",
    "                                      lr=0.003,\n",
    "                                      wordNgrams=2,\n",
    "                                      bucket=200000,\n",
    "                                      dim=50,\n",
    "                                      loss=\"softmax\")\n",
    "\n",
    "    model.save_model(\"clothes_review_sentiment.ftz\")\n",
    "    return model\n",
    "\n",
    "\n",
    "def eval(model, corpus):\n",
    "    \"\"\"\n",
    "    Evaluate the trained FastText model.\n",
    "    \"\"\"\n",
    "    result = model.test(corpus)\n",
    "    \n",
    "    print(f\"Test Samples: {result[0]}\")\n",
    "    print(f\"Precision: {result[1]}\")\n",
    "    print(f\"Recall: {result[2]}\")\n"
   ]
  },
  {
   "cell_type": "code",
   "execution_count": 603,
   "id": "915aeba4-aeda-45d6-bbae-e4f2607cc274",
   "metadata": {},
   "outputs": [],
   "source": [
    "#train_corpus = DF_ftz(clean_train, \"overall\", \"Text\", True)\n",
    "zero_shot_model = train(train_corpus)"
   ]
  },
  {
   "cell_type": "code",
   "execution_count": 604,
   "id": "f9915cae-471f-4758-95c5-e92417db135d",
   "metadata": {},
   "outputs": [
    {
     "name": "stdout",
     "output_type": "stream",
     "text": [
      "Test Samples: 48000\n",
      "Precision: 0.7359375\n",
      "Recall: 0.7359375\n"
     ]
    }
   ],
   "source": [
    "#test_corpus = DF_ftz(clean_test, \"overall\", \"Text\", False)\n",
    "eval(zero_shot_model, test_corpus)"
   ]
  },
  {
   "cell_type": "code",
   "execution_count": null,
   "id": "fc1e3caf-14b5-4c52-b526-ec79ca8a0cae",
   "metadata": {},
   "outputs": [],
   "source": []
  },
  {
   "cell_type": "code",
   "execution_count": null,
   "id": "3908e276-9ba2-4d29-857d-0ee3263d12f9",
   "metadata": {},
   "outputs": [],
   "source": []
  },
  {
   "cell_type": "code",
   "execution_count": null,
   "id": "f39e2b33-edcf-44d7-a4f4-940f44c8a74b",
   "metadata": {},
   "outputs": [],
   "source": []
  }
 ],
 "metadata": {
  "kernelspec": {
   "display_name": "Python 3 (ipykernel)",
   "language": "python",
   "name": "python3"
  },
  "language_info": {
   "codemirror_mode": {
    "name": "ipython",
    "version": 3
   },
   "file_extension": ".py",
   "mimetype": "text/x-python",
   "name": "python",
   "nbconvert_exporter": "python",
   "pygments_lexer": "ipython3",
   "version": "3.9.19"
  }
 },
 "nbformat": 4,
 "nbformat_minor": 5
}
